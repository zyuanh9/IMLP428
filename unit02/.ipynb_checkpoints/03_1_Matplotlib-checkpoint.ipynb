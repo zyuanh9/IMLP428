{
 "cells": [
  {
   "cell_type": "code",
   "execution_count": 6,
   "id": "e261c630",
   "metadata": {},
   "outputs": [],
   "source": [
    "import numpy as np\n",
    "import matplotlib.pyplot as plt\n",
    "\n",
    "labels = [\"Python\",\"C++\",\"Java\",\"JS\",\"C\",\"C#\"]\n",
    "index = np.arange(len(labels))\n",
    "ratings = [5.16,5.73,14.99,3.17,11.86,4.45]\n",
    "change = [1.12,0.3,-1.69,0.29,3.41,-0.45]"
   ]
  },
  {
   "cell_type": "code",
   "execution_count": 7,
   "id": "ad997878",
   "metadata": {},
   "outputs": [
    {
     "data": {
      "image/png": "[encoded data removed]",
      "text/plain": [
       "<Figure size 432x288 with 1 Axes>"
      ]
     },
     "metadata": {
      "needs_background": "light"
     },
     "output_type": "display_data"
    }
   ],
   "source": [
    "plt.bar(index,ratings)\n",
    "plt.xticks(index,labels)\n",
    "plt.ylabel(\"Usage\")\n",
    "plt.title(\"Programming rateing\")\n",
    "plt.show()"
   ]
  },
  {
   "cell_type": "code",
   "execution_count": null,
   "id": "72175576",
   "metadata": {},
   "outputs": [],
   "source": []
  }
 ],
 "metadata": {
  "kernelspec": {
   "display_name": "Python 3",
   "language": "python",
   "name": "python3"
  },
  "language_info": {
   "codemirror_mode": {
    "name": "ipython",
    "version": 3
   },
   "file_extension": ".py",
   "mimetype": "text/x-python",
   "name": "python",
   "nbconvert_exporter": "python",
   "pygments_lexer": "ipython3",
   "version": "3.8.8"
  }
 },
 "nbformat": 4,
 "nbformat_minor": 5
}
